{
 "cells": [
  {
   "cell_type": "markdown",
   "metadata": {},
   "source": [
    "!pip install tabula-py  \n",
    "!pip install rake-nltk    \n",
    "!pip install textacy     \n",
    "!pip install swifter  \n",
    "!pip install stop-words  \n",
    "!pip install nltk  "
   ]
  },
  {
   "cell_type": "code",
   "execution_count": 2,
   "metadata": {},
   "outputs": [],
   "source": [
    "import pandas as pd\n",
    "import numpy as np"
   ]
  },
  {
   "cell_type": "markdown",
   "metadata": {
    "collapsed": true
   },
   "source": [
    "# azureml-core of version 1.0.72 or higher is required\n",
    "from azureml.core import Workspace, Dataset  \n",
    "\n",
    "subscription_id = '1034fb6f-72b2-4ee5-8d29-e6dc005c6166'  \n",
    "resource_group = 'dtlspirion-dev1335648040003'  \n",
    "workspace_name = 'AZ1-D-ML001'  \n",
    "\n",
    "workspace = Workspace(subscription_id, resource_group, workspace_name)  \n",
    "dataset = Dataset.get_by_name(workspace, name='expt_data')  \n",
    "dataset.download(target_path='./expt_data', overwrite=False)  "
   ]
  },
  {
   "cell_type": "code",
   "execution_count": 3,
   "metadata": {},
   "outputs": [],
   "source": [
    "import docx\n",
    "doc = docx.Document('./expt_data/WDSI.WDSIDT2ShowcaseXI.docx')\n",
    "doc1 = [p.text for p in doc.paragraphs if p.text] \n",
    "x1 = ' '.join(map(str, doc1)) \n",
    "doc_1 = ' '.join(x1.split())"
   ]
  },
  {
   "cell_type": "code",
   "execution_count": 4,
   "metadata": {
    "scrolled": true
   },
   "outputs": [
    {
     "data": {
      "text/plain": [
       "\"TELEVISION STATION’S BARTER MOVIES OFFER DATE:__6/28/12 ____ STATION 1: __WFLI________ PACKAGE TITLE: SHOWCASE XI STATION 2: __WDSI, WDSI-DT2__ NUMBER OF PICTURES: 48 WILL AIR ON STATION: WFLI or WDSI or WDSI-DT2 MARKET: ___Chattanooga, TN_______ CONTRACT START DATE: See Schedule A SALESPERSON: ____Pinker______ CONTRACT END DATE: See Schedule A PREPARED BY: ____Boudart__________ BARTER *: 50% of TOTAL MINUTES (LICENSEE) 50% of TOTAL MINUTES (DISTRIBUTOR) * TOTAL AMOUNT OF BARTER TIME TO BE DETERMINED BY DISTRIBUTOR BY LENGTH OF PICTURE(S). TIME PERIOD COMMITMENT: (All Time Periods are Inclusive) FIRST TELECAST: Sa/Su 10:00a to 2:00a SECOND OPTIONAL TELECAST: Sa/Su 10:00a to 5:00a LICENSEE: Mps Media of Tennessee License and New Age Media of Tennessee LLC 1181 Highway 315 Plains, PA 18702-6928 PHONE: (570) 970-5615 FAX: (570) 970-5601 PERSON WITH WHOM NEGOTIATIONS CONDUCTED: __Linda Greenwald__ OTHER PROVISIONS: Please see attached Schedule A for the list of Licensed Picture(s) (the “Picture(s)”) and broadcast windows for each Picture. Schedule A is hereby incorporated herein. Licensee’s telecast rights shall be limited to linear free broadcast television limited to the primary broadcast signal of the facilities of the Station in the English Language only. For the sake of clarity, Licensee's telecast rights shall not include secondary broadcast signals/digital sub-channels of the Station, unless otherwise specified in the Agreement. It is of the essence of the Agreement that Licensee broadcasts the Picture(s) within the broadcast windows indicated on Schedule A below except in the event of a valid preemption or prevention as set forth below. Licensee shall broadcast each Picture exactly as delivered by Distributor and without deletion or change in such Picture(s) or in the commercials furnished by Distributor, except that Licensee may add its commercial matter solely in the commercial positions provided by Distributor. In the event that Licensee breaches this obligation (which obligation is of a special and unique nature), Distributor shall be entitled to equitable remedies including, without limitation, injunctive relief. In addition, the Picture(s) may not be exhibited by any means other than broadcast television. Licensee’s telecast rights shall be exclusive in linear broadcast television only. Should the Picture(s) be made available for syndication earlier than the dates listed in Schedule A, Licensee agrees that the license term of each Picture will commence as notified by Distributor. The license term of each Picture will terminate as notified by Distributor or upon the last authorized telecast, whichever is earlier. All Availability Dates set forth in Schedule A will be subject to the provisions in any network, cable or pay exhibition agreement entered into with respect to any said Picture(s). Distributor reserves the right to substitute or to withdraw any Picture(s) upon giving Licensee thirty (30) days written notice. Licensee agrees, as a material provision of the Agreement, to use its best efforts to promote the Picture(s) in a manner consistent with that provided for similar programming in a comparable time period. Licensee agrees not to promote or publicize any Picture(s) until thirty (30) days prior to its Availability Date. Licensee shall notify Distributor of the dates and specific time periods for each Telecast of each Picture forty-five (45) days prior to the applicable Availability Date. Licensee must broadcast Telecasts of the Picture(s) only as scheduled. No additional runs of the Picture(s) are permitted. If Licensee broadcasts any Picture more than the number of times permitted by this Agreement, Licensee shall be liable for any and all costs and damages resulting from such unauthorized telecasts, including, but not limited to, additional residual payments incurred by Distributor. The Picture(s) will be formatted for a specific number of minutes of commercial time, to be determined by Distributor, with 50% of the time to be sold by Licensee and 50% of the time to be retained and sold by Distributor. Licensee acknowledges that Distributor’s commercial time broadcast within both the Picture(s) and time periods indicated herein is of the essence of the Agreement. Licensee agrees not to add any commercial time beyond the 50% of the minutes allowed herein. Licensee agrees to provide TVData, or any other similar service designated by Distributor, with any and all information regarding Licensee’s broadcast of the Picture(s) requested by such service. If Distributor so requests at any time, Licensee shall supply Distributor with a usage report for the portion of the license term indicated by Distributor, confirming that each Picture(s) (listed by title) and Distributor’s commercials therein (listed by commercial i.d. number) were actually broadcast as required herein and the respective date(s) of such Telecast(s), certified as correct by an officer of Licensee. Licensee further agrees that within each commercial pod none of Licensee’s commercials will be for products or services competitive with products or services of Distributor’s commercials. Delivery of the Picture(s) shall be by such technological means as Distributor may determine with Licensee bearing the responsibility of receiving the signal. In the event Licensee does not receive the feed(s) provided by Distributor, then Licensee shall request additional delivery by Distributor and Distributor shall provide either an additional feed or delivery by videocassette, at Distributor’s election. In either event, the cost thereof shall be the responsibility of the Licensee. Licensee shall notify Distributor of each preemption and rescheduling. In the event that Licensee should preempt any Telecast of the Picture(s), Licensee shall use best efforts to broadcast said Picture(s), including the commercial announcements sold by Distributor, within the broadcast window for the applicable Picture(s) indicated in Schedule A. In the event that Licensee is unable to broadcast said preempted Picture(s) within the broadcast window, then Licensee shall broadcast Distributor’s commercial announcements in a mutually agreed-upon program in a comparable or better time period(s) within the broadcast window as indicated in Schedule A. In the event of a conflict of rights with respect to the license term of any Picture(s), Distributor, upon thirty (30) days written notice to Licensee, may adjust the License Term. This offer is subject to those provisions as are contained in Distributor’s Standard Terms and Conditions, copies of which are available upon request. In the event of any conflict between the terms hereof, and the Standard Terms and Conditions, the former (i.e., the terms of the Movies Offer) shall govern. Licensee understands that Distributor reserves the right, in its sole discretion, to accept or reject this offer for any reason whatsoever and may, in addition to this offer, require Licensee to provide financial documents or other evidence of creditworthiness in form and substance satisfactory to Distributor. (Signature page to follow) This offer is subject to approval by an executive officer of Sony Pictures Television Inc. (“Distributor”). When this offer is approved by Distributor, it shall then constitute the entire valid and binding agreement. Distributor shall be under no obligation to deliver the Picture(s) to Licensee until such time as this offer is fully executed by Distributor. AGREED AND ACCEPTED: WFLI, WSID, WSID-DT2 STATION CALL LETTERS SONY PICTURES TELEVISION INC. A unit of Sony Pictures Entertainment Inc. By: ____________________________ By: _______________________________ Christopher L. Elwell Title: ___________________________ Executive Vice President, Distribution Date: ___________________________ Date: ______________________________ SCHEDULE “A”\""
      ]
     },
     "execution_count": 4,
     "metadata": {},
     "output_type": "execute_result"
    }
   ],
   "source": [
    "doc_1"
   ]
  },
  {
   "cell_type": "code",
   "execution_count": 5,
   "metadata": {},
   "outputs": [],
   "source": [
    "#!pip install textract\n",
    "\n",
    "import textract\n",
    "doc2 = textract.process('./expt_data/WDSI.WDSIDT2ShowcaseXI.pdf', method='pdfminer')\n",
    "x2 = doc2.decode('UTF-8')\n",
    "doc_2 = ' '.join(x2.split())"
   ]
  },
  {
   "cell_type": "code",
   "execution_count": 6,
   "metadata": {},
   "outputs": [],
   "source": [
    "#removing Whitespace charcters\n",
    "doc_2 = ' '.join(x2.split())"
   ]
  },
  {
   "cell_type": "code",
   "execution_count": 28,
   "metadata": {},
   "outputs": [
    {
     "data": {
      "text/plain": [
       "\"TELEVISION STATION’S BARTER MOVIES OFFER DATE:__6/28/12 ____ PACKAGE TITLE: SHOWCASE XI NUMBER OF PICTURES: 48 WILL AIR ON STATION: CONTRACT START DATE: See Schedule A CONTRACT END DATE: BARTER SPLIT*: * See Schedule A 50% 50% STATION 1: __ WFLI________ STATION 2: __WDSI, WDSI-DT2_ _ WFLI or WDSI or WDSI-DT2 MARKET: ___ Chattanooga, TN_______ SALESPERSON: ____ Pinker______ PREPARED BY: ____Boudart __________ of TOTAL MINUTES (LICENSEE) of TOTAL MINUTES (DISTRIBUTOR) TOTAL AMOUNT OF BARTER TIME TO BE DETERMINED BY DISTRIBUTOR BY LENGTH OF PICTURE(S). TIME PERIOD COMMITMENT: (All Time Periods are Inclusive) FIRST TELECAST: SECOND OPTIONAL TELECAST: LICENSEE: Sa/Su 10:00a to 2:00a Sa/Su 10:00a to 5:00a Mps Media of Tennessee License and New Age Media of Tennessee LLC 1181 Highway 315 Plains, PA 18702-6928 PHONE: (570) 970-5615 FAX: (570) 970-5601 Page 1 of 7 Linda Greenwald__ Please see attached Schedule A for the list of Licensed Picture(s) (the PERSON WITH WHOM NEGOTIATIONS CONDUCTED: __ OTHER PROVISIONS: “Picture(s)”) and broadcast windows for each Picture. Schedule A is hereby incorporated herein. Licensee’s telecast rights shall be limited to linear free broadcast television limited to the primary broadcast signal of the facilities of the Station in the English Language only. For the sake of clarity, Licensee's telecast rights shall not include secondary broadcast signals/digital sub-channels of the Station, unless otherwise specified in the Agreement. It is of the essence of the Agreement that Licensee broadcasts the Picture(s) within the broadcast windows indicated on Schedule A below except in the event of a valid preemption or prevention as set forth below. Licensee shall broadcast each Picture exactly as delivered by Distributor and without deletion or change in such Picture(s) or in the commercials furnished by Distributor, except that Licensee may add its commercial matter solely in the commercial positions provided by Distributor. In the event that Licensee breaches this obligation (which obligation is of a special and unique nature), Distributor shall be entitled to equitable remedies including, without limitation, injunctive relief. In addition, the Picture(s) may not be exhibited by any means other than broadcast television. Licensee’s telecast rights shall be exclusive in linear broadcast television only. Should the Picture(s) be made available for syndication earlier than the dates listed in Schedule A, Licensee agrees that the license term of each Picture will commence as notified by Distributor. The license term of each Picture will terminate as notified by Distributor or upon the last authorized telecast, whichever is earlier. All Availability Dates set forth in Schedule A will be subject to the provisions in any network, cable or pay exhibition agreement entered into with respect to any said Picture(s). Distributor reserves the right to substitute or to withdraw any Picture(s) upon giving Licensee thirty (30) days written notice. Licensee agrees, as a material provision of the Agreement, to use its best efforts to promote the Picture(s) in a manner consistent with that provided for similar programming in a comparable time period. Licensee agrees not to promote or publicize any Picture(s) until thirty (30) days prior to its Availability Date. Licensee shall notify Distributor of the dates and specific time periods for each Telecast of each Picture forty-five (45) days prior to the applicable Availability Date. Licensee must broadcast Telecasts of the Picture(s) only as scheduled. No additional runs of the Picture(s) are permitted. If Licensee broadcasts any Picture more than the number of times permitted by this Agreement, Licensee shall be liable for any and all costs and damages resulting from such unauthorized telecasts, including, but not limited to, additional residual payments incurred by Distributor. The Picture(s) will be formatted for a specific number of minutes of commercial time, to be determined by Distributor, with 50% of the time to be sold by Licensee and 50% of the time to be Page 2 of 7 retained and sold by Distributor. Licensee acknowledges that Distributor’s commercial time broadcast within both the Picture(s) and time periods indicated herein is of the essence of the Agreement. Licensee agrees not to add any commercial time beyond the 50% of the minutes allowed herein. Licensee agrees to provide TVData, or any other similar service designated by Distributor, with any and all information regarding Licensee’s broadcast of the Picture(s) requested by such service. If Distributor so requests at any time, Licensee shall supply Distributor with a usage report for the portion of the license term indicated by Distributor, confirming that each Picture(s) (listed by title) and Distributor’s commercials therein (listed by commercial i.d. number) were actually broadcast as required herein and the respective date(s) of such Telecast(s), certified as correct by an officer of Licensee. Licensee further agrees that within each commercial pod none of Licensee’s commercials will be for products or services competitive with products or services of Distributor’s commercials. Delivery of the Picture(s) shall be by such technological means as Distributor may determine with Licensee bearing the responsibility of receiving the signal. In the event Licensee does not receive the feed(s) provided by Distributor, then Licensee shall request additional delivery by Distributor and Distributor shall provide either an additional feed or delivery by videocassette, at Distributor’s election. In either event, the cost thereof shall be the responsibility of the Licensee. Licensee shall notify Distributor of each preemption and rescheduling. In the event that Licensee should preempt any Telecast of the Picture(s), Licensee shall use best efforts to broadcast said Picture(s), including the commercial announcements sold by Distributor, within the broadcast window for the applicable Picture(s) indicated in Schedule A. In the event that Licensee is unable to broadcast said preempted Picture(s) within the broadcast window, then Licensee shall broadcast Distributor’s commercial announcements in a mutually agreed-upon program in a comparable or better time period(s) within the broadcast window as indicated in Schedule A. In the event of a conflict of rights with respect to the license term of any Picture(s), Distributor, upon thirty (30) days written notice to Licensee, may adjust the License Term. This offer is subject to those provisions as are contained in Distributor’s Standard Terms and Conditions, copies of which are available upon request. In the event of any conflict between the terms hereof, and the Standard Terms and Conditions, the former (i.e., the terms of the Movies Offer) shall govern. Licensee understands that Distributor reserves the right, in its sole discretion, to accept or reject this offer for any reason whatsoever and may, in addition to this offer, require Licensee to provide financial documents or other evidence of creditworthiness in form and substance satisfactory to Distributor. (Signature page to follow) Page 3 of 7 Date: ______________________________ SONY PICTURES TELEVISION INC. A unit of Sony Pictures Entertainment Inc. By: _______________________________ Christopher L. Elwell Executive Vice President, Distribution This offer is subject to approval by an executive officer of Sony Pictures Television Inc. (“Distributor”). When this offer is approved by Distributor, it shall then constitute the entire valid and binding agreement. Distributor shall be under no obligation to deliver the Picture(s) to Licensee until such time as this offer is fully executed by Distributor. AGREED AND ACCEPTED: WFLI, WSID, WSID-DT2 STATION CALL LETTERS By: ____________________________ Title: ___________________________ Date: ___________________________ Page 4 of 7 SCHEDULE “A” PICTURES AVAILABILITY START DATE AVAILABILITY END DATE BEVERLY HILLS NINJA MONSTER HOUSE ARLINGTON ROAD MONEY TRAIN SO I MARRIED AN AXE MURDERER CROUCHING TIGER, HIDDEN DRAGON GRUDGE 3, THE FEW GOOD MEN, A HACHI: A DOG'S TALE CRAFT, THE AS GOOD AS IT GETS MY MOM'S NEW BOYFRIEND MESSENGERS, THE MEN IN BLACK (1997) DEVIL IN A BLUE DRESS LEAGUE OF THEIR OWN, A (1992) I KNOW WHAT YOU DID LAST SUMMER FOOLS RUSH IN (1997) DEVIL'S TOMB, THE 4/1/2013 5/1/2013 6/1/2013 7/1/2013 8/1/2013 9/1/2013 10/1/2013 11/1/2013 12/1/2013 1/1/2014 2/1/2014 3/1/2014 4/1/2014 5/1/2014 6/1/2014 7/1/2014 8/1/2014 9/1/2014 10/1/2014 CLOUDY WITH A CHANCE OF MEATBALLS 11/1/2014 BUDDY 12/1/2014 Page 5 of 7 4/30/2013 5/31/2013 6/30/2013 7/31/2013 8/31/2013 9/30/2013 10/31/2013 11/30/2013 12/31/2013 1/31/2014 2/28/2014 3/31/2014 4/30/2014 5/31/2014 6/30/2014 7/31/2014 8/31/2014 9/30/2014 10/31/2014 11/30/2014 12/31/2014 SINGLE WHITE FEMALE BURLESQUE CABLE GUY, THE CLEANER SURF'S UP 21 (2008) JULIE & JULIA STEPFATHER, THE (2009) STAND BY ME CANDYMAN HOOK PLANET 51 VANTAGE POINT SLEEPLESS IN SEATTLE DESPERADO (1995) HIT LIST, THE (2011) EAT PRAY LOVE ENOUGH ZOMBIELAND STEPMOM OPEN SEASON (2006) QUARANTINE BIG DADDY 1/1/2015 2/1/2015 3/1/2015 4/1/2015 5/1/2015 6/1/2015 7/1/2015 8/1/2015 9/1/2015 10/1/2015 11/1/2015 12/1/2015 1/1/2016 2/1/2016 3/1/2016 4/1/2016 5/1/2016 6/1/2016 7/1/2016 8/1/2016 9/1/2016 10/1/2016 11/1/2016 1/31/2015 2/28/2015 3/31/2015 4/30/2015 5/31/2015 6/30/2015 7/31/2015 8/31/2015 9/30/2015 10/31/2015 11/30/2015 12/31/2015 1/31/2016 2/29/2016 3/31/2016 4/30/2016 5/31/2016 6/30/2016 7/31/2016 8/31/2016 9/30/2016 10/31/2016 11/30/2016 Page 6 of 7 JUMANJI (1995) 2012 TAKERS (2010) CRUEL INTENTIONS 12/1/2016 12/31/2016 1/1/2017 2/1/2017 3/1/2017 1/31/2017 2/28/2017 3/31/2017 Page 7 of 7\""
      ]
     },
     "execution_count": 28,
     "metadata": {},
     "output_type": "execute_result"
    }
   ],
   "source": [
    "doc_2"
   ]
  },
  {
   "cell_type": "code",
   "execution_count": 7,
   "metadata": {},
   "outputs": [],
   "source": [
    "doc_3 = docx.Document('./expt_data/WSWB.ShowcaseXI.docx')\n",
    "doc3 = [p.text for p in doc_3.paragraphs if p.text] \n",
    "x3 = ' '.join(map(str, doc3)) \n",
    "doc_3 = ' '.join(x3.split())"
   ]
  },
  {
   "cell_type": "code",
   "execution_count": 8,
   "metadata": {
    "collapsed": true
   },
   "outputs": [
    {
     "data": {
      "text/plain": [
       "\"TELEVISION STATION’S BARTER MOVIES OFFER DATE:__6/28/2012 __ STATION 1: __WSWB _______ PACKAGE TITLE: SHOWCASE XI STATION 2: ___WOLF, WQMY______ NUMBER OF PICTURES: 48 WILL AIR ON STATION: WSWB or WOLF or WQMY MARKET: ___Wilkes Barre, PA _______ CONTRACT START DATE: See Schedule A SALESPERSON: ____Pinker______ CONTRACT END DATE: See Schedule A PREPARED BY: ____Boudart__________ BARTER *: 50% of TOTAL MINUTES (LICENSEE) 50% of TOTAL MINUTES (DISTRIBUTOR) * TOTAL AMOUNT OF BARTER TIME TO BE DETERMINED BY DISTRIBUTOR BY LENGTH OF PICTURE(S). TIME PERIOD COMMITMENT: (All Time Periods are Inclusive) FIRST TELECAST: Sa/Su 10:00a to 2:00a SECOND OPTIONAL TELECAST: Sa/Su 10:00a to 5:00a LICENSEE: New Age Media of PA, LLC and MPS Media of Scranton Licensee, LLC 1181 Highway 315 Plains, PA 18702-6928 PHONE: (570) 970-5615__ FAX: (570) 970-5601__ PERSON WITH WHOM NEGOTIATIONS CONDUCTED: Linda Greenwald OTHER PROVISIONS: Please see attached Schedule A for the list of Licensed Picture(s) (the “Picture(s)”) and broadcast windows for each Picture. Schedule A is hereby incorporated herein. Licensee’s telecast rights shall be limited to linear free broadcast television limited to the primary broadcast signal of the facilities of the Station in the English Language only. For the sake of clarity, Licensee's telecast rights shall not include secondary broadcast signals/digital sub-channels of the Station, unless otherwise specified in the Agreement. It is of the essence of the Agreement that Licensee broadcasts the Picture(s) within the broadcast windows indicated on Schedule A below except in the event of a valid preemption or prevention as set forth below. Licensee shall broadcast each Picture exactly as delivered by Distributor and without deletion or change in such Picture(s) or in the commercials furnished by Distributor, except that Licensee may add its commercial matter solely in the commercial positions provided by Distributor. In the event that Licensee breaches this obligation (which obligation is of a special and unique nature), Distributor shall be entitled to equitable remedies including, without limitation, injunctive relief. In addition, the Picture(s) may not be exhibited by any means other than broadcast television. Licensee’s telecast rights shall be exclusive in linear broadcast television only. Should the Picture(s) be made available for syndication earlier than the dates listed in Schedule A, Licensee agrees that the license term of each Picture will commence as notified by Distributor. The license term of each Picture will terminate as notified by Distributor or upon the last authorized telecast, whichever is earlier. All Availability Dates set forth in Schedule A will be subject to the provisions in any network, cable or pay exhibition agreement entered into with respect to any said Picture(s). Distributor reserves the right to substitute or to withdraw any Picture(s) upon giving Licensee thirty (30) days written notice. Licensee agrees, as a material provision of the Agreement, to use its best efforts to promote the Picture(s) in a manner consistent with that provided for similar programming in a comparable time period. Licensee agrees not to promote or publicize any Picture(s) until thirty (30) days prior to its Availability Date. Licensee shall notify Distributor of the dates and specific time periods for each Telecast of each Picture forty-five (45) days prior to the applicable Availability Date. Licensee must broadcast Telecasts of the Picture(s) only as scheduled. No additional runs of the Picture(s) are permitted. If Licensee broadcasts any Picture more than the number of times permitted by this Agreement, Licensee shall be liable for any and all costs and damages resulting from such unauthorized telecasts, including, but not limited to, additional residual payments incurred by Distributor. The Picture(s) will be formatted for a specific number of minutes of commercial time, to be determined by Distributor, with 50% of the time to be sold by Licensee and 50% of the time to be retained and sold by Distributor. Licensee acknowledges that Distributor’s commercial time broadcast within both the Picture(s) and time periods indicated herein is of the essence of the Agreement. Licensee agrees not to add any commercial time beyond the 50% of the minutes allowed herein. Licensee agrees to provide TVData, or any other similar service designated by Distributor, with any and all information regarding Licensee’s broadcast of the Picture(s) requested by such service. If Distributor so requests at any time, Licensee shall supply Distributor with a usage report for the portion of the license term indicated by Distributor, confirming that each Picture(s) (listed by title) and Distributor’s commercials therein (listed by commercial i.d. number) were actually broadcast as required herein and the respective date(s) of such Telecast(s), certified as correct by an officer of Licensee. Licensee further agrees that within each commercial pod none of Licensee’s commercials will be for products or services competitive with products or services of Distributor’s commercials. Delivery of the Picture(s) shall be by such technological means as Distributor may determine with Licensee bearing the responsibility of receiving the signal. In the event Licensee does not receive the feed(s) provided by Distributor, then Licensee shall request additional delivery by Distributor and Distributor shall provide either an additional feed or delivery by videocassette, at Distributor’s election. In either event, the cost thereof shall be the responsibility of the Licensee. Licensee shall notify Distributor of each preemption and rescheduling. In the event that Licensee should preempt any Telecast of the Picture(s), Licensee shall use best efforts to broadcast said Picture(s), including the commercial announcements sold by Distributor, within the broadcast window for the applicable Picture(s) indicated in Schedule A. In the event that Licensee is unable to broadcast said preempted Picture(s) within the broadcast window, then Licensee shall broadcast Distributor’s commercial announcements in a mutually agreed-upon program in a comparable or better time period(s) within the broadcast window as indicated in Schedule A. In the event of a conflict of rights with respect to the license term of any Picture(s), Distributor, upon thirty (30) days written notice to Licensee, may adjust the License Term. This offer is subject to those provisions as are contained in Distributor’s Standard Terms and Conditions, copies of which are available upon request. In the event of any conflict between the terms hereof, and the Standard Terms and Conditions, the former (i.e., the terms of the Movies Offer) shall govern. Licensee understands that Distributor reserves the right, in its sole discretion, to accept or reject this offer for any reason whatsoever and may, in addition to this offer, require Licensee to provide financial documents or other evidence of creditworthiness in form and substance satisfactory to Distributor. (Signature page to follow) This offer is subject to approval by an executive officer of Sony Pictures Television Inc. (“Distributor”). When this offer is approved by Distributor, it shall then constitute the entire valid and binding agreement. Distributor shall be under no obligation to deliver the Picture(s) to Licensee until such time as this offer is fully executed by Distributor. AGREED AND ACCEPTED: WSWB/WOLF/WQMY STATION CALL LETTERS SONY PICTURES TELEVISION INC. A unit of Sony Pictures Entertainment Inc. By: ____________________________ By: _______________________________ Christopher L. Elwell Title: ___________________________ Executive Vice President, Distribution Date: ___________________________ Date: ______________________________ SCHEDULE “A”\""
      ]
     },
     "execution_count": 8,
     "metadata": {},
     "output_type": "execute_result"
    }
   ],
   "source": [
    "doc_3"
   ]
  },
  {
   "cell_type": "code",
   "execution_count": 9,
   "metadata": {},
   "outputs": [
    {
     "data": {
      "text/plain": [
       "(7865, 9732, 7873)"
      ]
     },
     "execution_count": 9,
     "metadata": {},
     "output_type": "execute_result"
    }
   ],
   "source": [
    "len(doc_3),len(doc_2),len(doc_1)"
   ]
  },
  {
   "cell_type": "code",
   "execution_count": 10,
   "metadata": {},
   "outputs": [],
   "source": [
    "d = {}\n",
    "d[1]= (doc_1)\n",
    "d[2]= (doc_2)\n",
    "d[3]= (doc_3)"
   ]
  },
  {
   "cell_type": "code",
   "execution_count": 11,
   "metadata": {},
   "outputs": [],
   "source": [
    "df = pd.DataFrame(d,[0]).T"
   ]
  },
  {
   "cell_type": "code",
   "execution_count": 12,
   "metadata": {},
   "outputs": [],
   "source": [
    "df.columns = [\"docs\"]"
   ]
  },
  {
   "cell_type": "code",
   "execution_count": 13,
   "metadata": {},
   "outputs": [
    {
     "data": {
      "text/html": [
       "<div>\n",
       "<style scoped>\n",
       "    .dataframe tbody tr th:only-of-type {\n",
       "        vertical-align: middle;\n",
       "    }\n",
       "\n",
       "    .dataframe tbody tr th {\n",
       "        vertical-align: top;\n",
       "    }\n",
       "\n",
       "    .dataframe thead th {\n",
       "        text-align: right;\n",
       "    }\n",
       "</style>\n",
       "<table border=\"1\" class=\"dataframe\">\n",
       "  <thead>\n",
       "    <tr style=\"text-align: right;\">\n",
       "      <th></th>\n",
       "      <th>docs</th>\n",
       "    </tr>\n",
       "  </thead>\n",
       "  <tbody>\n",
       "    <tr>\n",
       "      <th>1</th>\n",
       "      <td>TELEVISION STATION’S BARTER MOVIES OFFER DATE:...</td>\n",
       "    </tr>\n",
       "    <tr>\n",
       "      <th>2</th>\n",
       "      <td>TELEVISION STATION’S BARTER MOVIES OFFER DATE:...</td>\n",
       "    </tr>\n",
       "    <tr>\n",
       "      <th>3</th>\n",
       "      <td>TELEVISION STATION’S BARTER MOVIES OFFER DATE:...</td>\n",
       "    </tr>\n",
       "  </tbody>\n",
       "</table>\n",
       "</div>"
      ],
      "text/plain": [
       "                                                docs\n",
       "1  TELEVISION STATION’S BARTER MOVIES OFFER DATE:...\n",
       "2  TELEVISION STATION’S BARTER MOVIES OFFER DATE:...\n",
       "3  TELEVISION STATION’S BARTER MOVIES OFFER DATE:..."
      ]
     },
     "execution_count": 13,
     "metadata": {},
     "output_type": "execute_result"
    }
   ],
   "source": [
    "df"
   ]
  },
  {
   "cell_type": "code",
   "execution_count": 14,
   "metadata": {},
   "outputs": [],
   "source": [
    "df['docs'] = df['docs'].str.lower()"
   ]
  },
  {
   "cell_type": "code",
   "execution_count": 15,
   "metadata": {},
   "outputs": [
    {
     "name": "stdout",
     "output_type": "stream",
     "text": [
      "!\"#$%&'()*+,-./:;<=>?@[\\]^_`{|}~\n"
     ]
    }
   ],
   "source": [
    "import string\n",
    "print(string.punctuation)"
   ]
  },
  {
   "cell_type": "code",
   "execution_count": 16,
   "metadata": {},
   "outputs": [],
   "source": [
    "df[\"new_column\"] = df['docs'].str.replace('[^\\w\\s]','')\n",
    "#df['documents'].apply(remove_punctuations)"
   ]
  },
  {
   "cell_type": "code",
   "execution_count": 17,
   "metadata": {},
   "outputs": [
    {
     "data": {
      "text/html": [
       "<div>\n",
       "<style scoped>\n",
       "    .dataframe tbody tr th:only-of-type {\n",
       "        vertical-align: middle;\n",
       "    }\n",
       "\n",
       "    .dataframe tbody tr th {\n",
       "        vertical-align: top;\n",
       "    }\n",
       "\n",
       "    .dataframe thead th {\n",
       "        text-align: right;\n",
       "    }\n",
       "</style>\n",
       "<table border=\"1\" class=\"dataframe\">\n",
       "  <thead>\n",
       "    <tr style=\"text-align: right;\">\n",
       "      <th></th>\n",
       "      <th>docs</th>\n",
       "      <th>new_column</th>\n",
       "    </tr>\n",
       "  </thead>\n",
       "  <tbody>\n",
       "    <tr>\n",
       "      <th>1</th>\n",
       "      <td>television station’s barter movies offer date:...</td>\n",
       "      <td>television stations barter movies offer date__...</td>\n",
       "    </tr>\n",
       "    <tr>\n",
       "      <th>2</th>\n",
       "      <td>television station’s barter movies offer date:...</td>\n",
       "      <td>television stations barter movies offer date__...</td>\n",
       "    </tr>\n",
       "    <tr>\n",
       "      <th>3</th>\n",
       "      <td>television station’s barter movies offer date:...</td>\n",
       "      <td>television stations barter movies offer date__...</td>\n",
       "    </tr>\n",
       "  </tbody>\n",
       "</table>\n",
       "</div>"
      ],
      "text/plain": [
       "                                                docs  \\\n",
       "1  television station’s barter movies offer date:...   \n",
       "2  television station’s barter movies offer date:...   \n",
       "3  television station’s barter movies offer date:...   \n",
       "\n",
       "                                          new_column  \n",
       "1  television stations barter movies offer date__...  \n",
       "2  television stations barter movies offer date__...  \n",
       "3  television stations barter movies offer date__...  "
      ]
     },
     "execution_count": 17,
     "metadata": {},
     "output_type": "execute_result"
    }
   ],
   "source": [
    "df"
   ]
  },
  {
   "cell_type": "code",
   "execution_count": 18,
   "metadata": {},
   "outputs": [
    {
     "name": "stderr",
     "output_type": "stream",
     "text": [
      "[nltk_data] Downloading package stopwords to /home/dsuser/nltk_data...\n",
      "[nltk_data]   Package stopwords is already up-to-date!\n"
     ]
    },
    {
     "data": {
      "text/plain": [
       "True"
      ]
     },
     "execution_count": 18,
     "metadata": {},
     "output_type": "execute_result"
    }
   ],
   "source": [
    "import spacy \n",
    "import nltk\n",
    "\n",
    "import textacy\n",
    "from rake_nltk import rake\n",
    "from spacy import displacy \n",
    "nltk.download('stopwords')"
   ]
  },
  {
   "cell_type": "code",
   "execution_count": 19,
   "metadata": {},
   "outputs": [],
   "source": [
    "import nltk\n",
    "from spacy.lang.id import stop_words\n",
    "from nltk.tokenize import word_tokenize\n",
    "\n",
    "from nltk.corpus import stopwords\n",
    "\n",
    "from stop_words import get_stop_words\n",
    "\n",
    "from stop_words import safe_get_stop_words\n",
    "\n",
    "from stop_words import get_stop_words\n",
    "\n",
    " \n",
    "\n",
    "\n",
    "stop_words = stopwords.words('english')\n",
    "stop_words = get_stop_words('en')\n",
    "from stop_words import safe_get_stop_words"
   ]
  },
  {
   "cell_type": "code",
   "execution_count": 20,
   "metadata": {},
   "outputs": [],
   "source": [
    "from multi_rake import Rake\n",
    "\n",
    "rake = Rake(\n",
    "\n",
    "    min_chars=3,\n",
    "\n",
    "    max_words=3,\n",
    "\n",
    "    min_freq=1,\n",
    "\n",
    "    language_code='en',  # 'en'\n",
    "\n",
    "    stopwords=None,  # {'and', 'of'}\n",
    "\n",
    "    lang_detect_threshold=50,\n",
    "\n",
    "    max_words_unknown_lang=2,\n",
    "\n",
    "    generated_stopwords_percentile=80,\n",
    "\n",
    "    generated_stopwords_max_len=3,\n",
    "\n",
    "    generated_stopwords_min_freq=2,\n",
    "\n",
    ")\n",
    "\n",
    " \n",
    "\n",
    "def get_multirake(row):\n",
    "\n",
    "  try:\n",
    "\n",
    "    return rake.apply(row, text_for_stopwords=stop_words)\n",
    "\n",
    "  except AttributeError:\n",
    "\n",
    "    return None\n",
    "\n",
    " \n",
    "\n",
    "df['keywords'] = df['new_column'].apply(get_multirake)"
   ]
  },
  {
   "cell_type": "code",
   "execution_count": 21,
   "metadata": {},
   "outputs": [
    {
     "data": {
      "text/html": [
       "<div>\n",
       "<style scoped>\n",
       "    .dataframe tbody tr th:only-of-type {\n",
       "        vertical-align: middle;\n",
       "    }\n",
       "\n",
       "    .dataframe tbody tr th {\n",
       "        vertical-align: top;\n",
       "    }\n",
       "\n",
       "    .dataframe thead th {\n",
       "        text-align: right;\n",
       "    }\n",
       "</style>\n",
       "<table border=\"1\" class=\"dataframe\">\n",
       "  <thead>\n",
       "    <tr style=\"text-align: right;\">\n",
       "      <th></th>\n",
       "      <th>docs</th>\n",
       "      <th>new_column</th>\n",
       "      <th>keywords</th>\n",
       "    </tr>\n",
       "  </thead>\n",
       "  <tbody>\n",
       "    <tr>\n",
       "      <th>1</th>\n",
       "      <td>television station’s barter movies offer date:...</td>\n",
       "      <td>television stations barter movies offer date__...</td>\n",
       "      <td>[(limitation injunctive relief, 9.0), (mutuall...</td>\n",
       "    </tr>\n",
       "    <tr>\n",
       "      <th>2</th>\n",
       "      <td>television station’s barter movies offer date:...</td>\n",
       "      <td>television stations barter movies offer date__...</td>\n",
       "      <td>[(200a sasu 1000a, 9.0), (negotiations conduct...</td>\n",
       "    </tr>\n",
       "    <tr>\n",
       "      <th>3</th>\n",
       "      <td>television station’s barter movies offer date:...</td>\n",
       "      <td>television stations barter movies offer date__...</td>\n",
       "      <td>[(limitation injunctive relief, 9.0), (mutuall...</td>\n",
       "    </tr>\n",
       "  </tbody>\n",
       "</table>\n",
       "</div>"
      ],
      "text/plain": [
       "                                                docs  \\\n",
       "1  television station’s barter movies offer date:...   \n",
       "2  television station’s barter movies offer date:...   \n",
       "3  television station’s barter movies offer date:...   \n",
       "\n",
       "                                          new_column  \\\n",
       "1  television stations barter movies offer date__...   \n",
       "2  television stations barter movies offer date__...   \n",
       "3  television stations barter movies offer date__...   \n",
       "\n",
       "                                            keywords  \n",
       "1  [(limitation injunctive relief, 9.0), (mutuall...  \n",
       "2  [(200a sasu 1000a, 9.0), (negotiations conduct...  \n",
       "3  [(limitation injunctive relief, 9.0), (mutuall...  "
      ]
     },
     "execution_count": 21,
     "metadata": {},
     "output_type": "execute_result"
    }
   ],
   "source": [
    "df"
   ]
  },
  {
   "cell_type": "code",
   "execution_count": 22,
   "metadata": {},
   "outputs": [
    {
     "name": "stdout",
     "output_type": "stream",
     "text": [
      "CPU times: user 16 ms, sys: 4.05 ms, total: 20 ms\n",
      "Wall time: 18.8 ms\n",
      "TF-idf matrix:  (3, 122)\n"
     ]
    },
    {
     "name": "stderr",
     "output_type": "stream",
     "text": [
      "/anaconda/envs/azureml_py36/lib/python3.6/site-packages/sklearn/feature_extraction/text.py:386: UserWarning: Your stop_words may be inconsistent with your preprocessing. Tokenizing the stop words generated tokens ['baiknya', 'berkali', 'kali', 'kurangnya', 'mata', 'olah', 'sekurang', 'setidak', 'tama', 'tidaknya'] not in stop_words.\n",
      "  'stop_words.' % sorted(inconsistent))\n"
     ]
    }
   ],
   "source": [
    "from spacy.lang.id import stop_words\n",
    "\n",
    "from string import punctuation, digits\n",
    "\n",
    "from sklearn.feature_extraction.text import TfidfVectorizer\n",
    "\n",
    "STWRD = list(set(punctuation))\n",
    "\n",
    "STWRD += list(set(digits))\n",
    "\n",
    "STWRD += stop_words.STOP_WORDS\n",
    "\n",
    " \n",
    "\n",
    "tfidf_vectorizer = TfidfVectorizer(max_df=0.8, max_features=200000,\n",
    "\n",
    "                                 min_df=2, stop_words=STWRD,\n",
    "\n",
    "                                 use_idf=True, tokenizer=None, ngram_range=(1,3))\n",
    "\n",
    "\n",
    " \n",
    "\n",
    "%time tfidf_matrix = tfidf_vectorizer.fit_transform(list(df['new_column'].values.astype('U'))) #fit the vectorizer to synopses\n",
    "\n",
    " \n",
    "\n",
    "print(\"TF-idf matrix: \",tfidf_matrix.shape)\n",
    "\n",
    " \n",
    "\n",
    "terms = tfidf_vectorizer.get_feature_names()"
   ]
  },
  {
   "cell_type": "code",
   "execution_count": 23,
   "metadata": {},
   "outputs": [],
   "source": [
    "tfidf = pd.DataFrame(tfidf_matrix.todense(),columns = tfidf_vectorizer.get_feature_names())"
   ]
  },
  {
   "cell_type": "code",
   "execution_count": 24,
   "metadata": {},
   "outputs": [
    {
     "data": {
      "text/html": [
       "<div>\n",
       "<style scoped>\n",
       "    .dataframe tbody tr th:only-of-type {\n",
       "        vertical-align: middle;\n",
       "    }\n",
       "\n",
       "    .dataframe tbody tr th {\n",
       "        vertical-align: top;\n",
       "    }\n",
       "\n",
       "    .dataframe thead th {\n",
       "        text-align: right;\n",
       "    }\n",
       "</style>\n",
       "<table border=\"1\" class=\"dataframe\">\n",
       "  <thead>\n",
       "    <tr style=\"text-align: right;\">\n",
       "      <th></th>\n",
       "      <th>200a second</th>\n",
       "      <th>200a second optional</th>\n",
       "      <th>50 of total</th>\n",
       "      <th>500a licensee</th>\n",
       "      <th>570 9705601</th>\n",
       "      <th>570 9705615</th>\n",
       "      <th>570 9705615 fax</th>\n",
       "      <th>9705601</th>\n",
       "      <th>9705615</th>\n",
       "      <th>9705615 fax</th>\n",
       "      <th>...</th>\n",
       "      <th>wfli or wdsi</th>\n",
       "      <th>wfli wsid</th>\n",
       "      <th>wfli wsid wsiddt2</th>\n",
       "      <th>wsid</th>\n",
       "      <th>wsid wsiddt2</th>\n",
       "      <th>wsid wsiddt2 station</th>\n",
       "      <th>wsiddt2</th>\n",
       "      <th>wsiddt2 station</th>\n",
       "      <th>wsiddt2 station call</th>\n",
       "      <th>xi station</th>\n",
       "    </tr>\n",
       "  </thead>\n",
       "  <tbody>\n",
       "    <tr>\n",
       "      <th>0</th>\n",
       "      <td>0.084215</td>\n",
       "      <td>0.084215</td>\n",
       "      <td>0.168430</td>\n",
       "      <td>0.084215</td>\n",
       "      <td>0.084215</td>\n",
       "      <td>0.084215</td>\n",
       "      <td>0.084215</td>\n",
       "      <td>0.084215</td>\n",
       "      <td>0.084215</td>\n",
       "      <td>0.084215</td>\n",
       "      <td>...</td>\n",
       "      <td>0.084215</td>\n",
       "      <td>0.084215</td>\n",
       "      <td>0.084215</td>\n",
       "      <td>0.084215</td>\n",
       "      <td>0.084215</td>\n",
       "      <td>0.084215</td>\n",
       "      <td>0.084215</td>\n",
       "      <td>0.084215</td>\n",
       "      <td>0.084215</td>\n",
       "      <td>0.084215</td>\n",
       "    </tr>\n",
       "    <tr>\n",
       "      <th>1</th>\n",
       "      <td>0.000000</td>\n",
       "      <td>0.000000</td>\n",
       "      <td>0.000000</td>\n",
       "      <td>0.000000</td>\n",
       "      <td>0.115470</td>\n",
       "      <td>0.115470</td>\n",
       "      <td>0.115470</td>\n",
       "      <td>0.115470</td>\n",
       "      <td>0.115470</td>\n",
       "      <td>0.115470</td>\n",
       "      <td>...</td>\n",
       "      <td>0.115470</td>\n",
       "      <td>0.115470</td>\n",
       "      <td>0.115470</td>\n",
       "      <td>0.115470</td>\n",
       "      <td>0.115470</td>\n",
       "      <td>0.115470</td>\n",
       "      <td>0.115470</td>\n",
       "      <td>0.115470</td>\n",
       "      <td>0.115470</td>\n",
       "      <td>0.000000</td>\n",
       "    </tr>\n",
       "    <tr>\n",
       "      <th>2</th>\n",
       "      <td>0.114708</td>\n",
       "      <td>0.114708</td>\n",
       "      <td>0.229416</td>\n",
       "      <td>0.114708</td>\n",
       "      <td>0.000000</td>\n",
       "      <td>0.000000</td>\n",
       "      <td>0.000000</td>\n",
       "      <td>0.000000</td>\n",
       "      <td>0.000000</td>\n",
       "      <td>0.000000</td>\n",
       "      <td>...</td>\n",
       "      <td>0.000000</td>\n",
       "      <td>0.000000</td>\n",
       "      <td>0.000000</td>\n",
       "      <td>0.000000</td>\n",
       "      <td>0.000000</td>\n",
       "      <td>0.000000</td>\n",
       "      <td>0.000000</td>\n",
       "      <td>0.000000</td>\n",
       "      <td>0.000000</td>\n",
       "      <td>0.114708</td>\n",
       "    </tr>\n",
       "  </tbody>\n",
       "</table>\n",
       "<p>3 rows × 122 columns</p>\n",
       "</div>"
      ],
      "text/plain": [
       "   200a second  200a second optional  50 of total  500a licensee  570 9705601  \\\n",
       "0     0.084215              0.084215     0.168430       0.084215     0.084215   \n",
       "1     0.000000              0.000000     0.000000       0.000000     0.115470   \n",
       "2     0.114708              0.114708     0.229416       0.114708     0.000000   \n",
       "\n",
       "   570 9705615  570 9705615 fax   9705601   9705615  9705615 fax  ...  \\\n",
       "0     0.084215         0.084215  0.084215  0.084215     0.084215  ...   \n",
       "1     0.115470         0.115470  0.115470  0.115470     0.115470  ...   \n",
       "2     0.000000         0.000000  0.000000  0.000000     0.000000  ...   \n",
       "\n",
       "   wfli or wdsi  wfli wsid  wfli wsid wsiddt2      wsid  wsid wsiddt2  \\\n",
       "0      0.084215   0.084215           0.084215  0.084215      0.084215   \n",
       "1      0.115470   0.115470           0.115470  0.115470      0.115470   \n",
       "2      0.000000   0.000000           0.000000  0.000000      0.000000   \n",
       "\n",
       "   wsid wsiddt2 station   wsiddt2  wsiddt2 station  wsiddt2 station call  \\\n",
       "0              0.084215  0.084215         0.084215              0.084215   \n",
       "1              0.115470  0.115470         0.115470              0.115470   \n",
       "2              0.000000  0.000000         0.000000              0.000000   \n",
       "\n",
       "   xi station  \n",
       "0    0.084215  \n",
       "1    0.000000  \n",
       "2    0.114708  \n",
       "\n",
       "[3 rows x 122 columns]"
      ]
     },
     "execution_count": 24,
     "metadata": {},
     "output_type": "execute_result"
    }
   ],
   "source": [
    "tfidf"
   ]
  },
  {
   "cell_type": "code",
   "execution_count": 25,
   "metadata": {},
   "outputs": [],
   "source": [
    "from sklearn.metrics.pairwise import cosine_similarity"
   ]
  },
  {
   "cell_type": "code",
   "execution_count": 26,
   "metadata": {},
   "outputs": [
    {
     "data": {
      "text/plain": [
       "array([[1.        , 0.66125463, 0.71485073],\n",
       "       [0.66125463, 1.        , 0.03973597],\n",
       "       [0.71485073, 0.03973597, 1.        ]])"
      ]
     },
     "execution_count": 26,
     "metadata": {},
     "output_type": "execute_result"
    }
   ],
   "source": [
    "cosine_similarity(tfidf_matrix)"
   ]
  },
  {
   "cell_type": "code",
   "execution_count": 27,
   "metadata": {},
   "outputs": [
    {
     "data": {
      "text/html": [
       "<div>\n",
       "<style scoped>\n",
       "    .dataframe tbody tr th:only-of-type {\n",
       "        vertical-align: middle;\n",
       "    }\n",
       "\n",
       "    .dataframe tbody tr th {\n",
       "        vertical-align: top;\n",
       "    }\n",
       "\n",
       "    .dataframe thead th {\n",
       "        text-align: right;\n",
       "    }\n",
       "</style>\n",
       "<table border=\"1\" class=\"dataframe\">\n",
       "  <thead>\n",
       "    <tr style=\"text-align: right;\">\n",
       "      <th></th>\n",
       "      <th>0</th>\n",
       "      <th>1</th>\n",
       "      <th>2</th>\n",
       "    </tr>\n",
       "  </thead>\n",
       "  <tbody>\n",
       "    <tr>\n",
       "      <th>0</th>\n",
       "      <td>5.00</td>\n",
       "      <td>3.31</td>\n",
       "      <td>3.57</td>\n",
       "    </tr>\n",
       "    <tr>\n",
       "      <th>1</th>\n",
       "      <td>3.31</td>\n",
       "      <td>5.00</td>\n",
       "      <td>0.20</td>\n",
       "    </tr>\n",
       "    <tr>\n",
       "      <th>2</th>\n",
       "      <td>3.57</td>\n",
       "      <td>0.20</td>\n",
       "      <td>5.00</td>\n",
       "    </tr>\n",
       "  </tbody>\n",
       "</table>\n",
       "</div>"
      ],
      "text/plain": [
       "      0     1     2\n",
       "0  5.00  3.31  3.57\n",
       "1  3.31  5.00  0.20\n",
       "2  3.57  0.20  5.00"
      ]
     },
     "execution_count": 27,
     "metadata": {},
     "output_type": "execute_result"
    }
   ],
   "source": [
    "x = cosine_similarity(tfidf_matrix)\n",
    "data_cor = pd.DataFrame(x)\n",
    "data_cor = data_cor*5\n",
    "data_cor = data_cor.round(2)\n",
    "data_cor = data_cor.mask(data_cor < 0, 0)\n",
    "data_cor"
   ]
  }
 ],
 "metadata": {
  "kernelspec": {
   "display_name": "Python 3.6 - AzureML",
   "language": "python",
   "name": "python3-azureml"
  },
  "language_info": {
   "codemirror_mode": {
    "name": "ipython",
    "version": 3
   },
   "file_extension": ".py",
   "mimetype": "text/x-python",
   "name": "python",
   "nbconvert_exporter": "python",
   "pygments_lexer": "ipython3",
   "version": "3.6.9"
  }
 },
 "nbformat": 4,
 "nbformat_minor": 4
}
