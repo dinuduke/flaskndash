{
 "cells": [
  {
   "cell_type": "code",
   "execution_count": 36,
   "metadata": {},
   "outputs": [],
   "source": [
    "\n",
    "import glob\n",
    "import os\n",
    "import os.path\n",
    "import time \n",
    "import getpass\n",
    "import pathlib\n",
    "\n",
    "import pandas as pd\n",
    "import category_encoders as ce\n",
    "\n",
    "from sklearn.preprocessing import LabelEncoder\n",
    "labelencoder_X=LabelEncoder()"
   ]
  },
  {
   "cell_type": "markdown",
   "metadata": {},
   "source": [
    "## Reading Files from Input Directory"
   ]
  },
  {
   "cell_type": "code",
   "execution_count": 84,
   "metadata": {},
   "outputs": [
    {
     "name": "stdout",
     "output_type": "stream",
     "text": [
      "./doc_sim/input/WDSI.WDSIDT2ShowcaseXI.docx\n",
      "FileName: WDSI.WDSIDT2ShowcaseXI.docx\n",
      " \n",
      "./doc_sim/input/WDSI.WDSIDT2ShowcaseXI.pdf\n",
      "FileName: WDSI.WDSIDT2ShowcaseXI.pdf\n",
      " \n",
      "./doc_sim/input/WSWB.showcaseXI.docx\n",
      "FileName: WSWB.showcaseXI.docx\n",
      " \n"
     ]
    }
   ],
   "source": [
    "file_attr = []\n",
    "for name in glob.glob(\"./doc_sim/input/*\"):\n",
    "    \n",
    "    print (name)\n",
    "    x=pathlib.PurePosixPath(name).suffix\n",
    "#     print (\" \")\n",
    "    username=getpass.getuser()\n",
    "#     print(\"FileType:\",x)   \n",
    "#     print(\"Size:\",os.path.getsize(name))\n",
    "#     print('Access time  :', time.ctime(os.path.getatime(name)))\n",
    "#     print('Modified time:', time.ctime(os.path.getmtime(name)))\n",
    "#     print(\"Modified By:\",username)\n",
    "#     print(\" \")\n",
    "\n",
    "    head, tail = os.path.split(name)\n",
    "    print(\"FileName:\", tail)\n",
    "#     print(\"FilePath:\", head)\n",
    "    name_ = tail.replace(x,' ')\n",
    "#     print(name_)\n",
    "    print (\" \")\n",
    "\n",
    "    temp_list =  [tail,head,name_,x,os.path.getsize(name), time.ctime(os.path.getatime(name)),time.ctime(os.path.getmtime(name)),username]\n",
    "#     temp_list =  [head,name_,x,os.path.getsize(name), time.ctime(os.path.getatime(name)),time.ctime(os.path.getmtime(name)),username]\n",
    "    \n",
    "    file_attr.append(temp_list)\n",
    "    "
   ]
  },
  {
   "cell_type": "markdown",
   "metadata": {},
   "source": [
    "## Extracting File's Properties"
   ]
  },
  {
   "cell_type": "code",
   "execution_count": 95,
   "metadata": {},
   "outputs": [
    {
     "data": {
      "text/html": [
       "<div>\n",
       "<style scoped>\n",
       "    .dataframe tbody tr th:only-of-type {\n",
       "        vertical-align: middle;\n",
       "    }\n",
       "\n",
       "    .dataframe tbody tr th {\n",
       "        vertical-align: top;\n",
       "    }\n",
       "\n",
       "    .dataframe thead th {\n",
       "        text-align: right;\n",
       "    }\n",
       "</style>\n",
       "<table border=\"1\" class=\"dataframe\">\n",
       "  <thead>\n",
       "    <tr style=\"text-align: right;\">\n",
       "      <th></th>\n",
       "      <th>name</th>\n",
       "      <th>path</th>\n",
       "      <th>name_</th>\n",
       "      <th>filetype</th>\n",
       "      <th>size</th>\n",
       "      <th>accesstime</th>\n",
       "      <th>modifiedtime</th>\n",
       "      <th>modifiedby</th>\n",
       "    </tr>\n",
       "  </thead>\n",
       "  <tbody>\n",
       "    <tr>\n",
       "      <th>0</th>\n",
       "      <td>WDSI.WDSIDT2ShowcaseXI.docx</td>\n",
       "      <td>./doc_sim/input</td>\n",
       "      <td>WDSI.WDSIDT2ShowcaseXI</td>\n",
       "      <td>.docx</td>\n",
       "      <td>408619</td>\n",
       "      <td>Fri Jan  8 08:31:33 2021</td>\n",
       "      <td>Tue Jan 12 12:46:33 2021</td>\n",
       "      <td>dsuser</td>\n",
       "    </tr>\n",
       "    <tr>\n",
       "      <th>1</th>\n",
       "      <td>WDSI.WDSIDT2ShowcaseXI.pdf</td>\n",
       "      <td>./doc_sim/input</td>\n",
       "      <td>WDSI.WDSIDT2ShowcaseXI</td>\n",
       "      <td>.pdf</td>\n",
       "      <td>72452</td>\n",
       "      <td>Fri Jan  8 08:31:33 2021</td>\n",
       "      <td>Tue Jan 12 12:46:33 2021</td>\n",
       "      <td>dsuser</td>\n",
       "    </tr>\n",
       "    <tr>\n",
       "      <th>2</th>\n",
       "      <td>WSWB.showcaseXI.docx</td>\n",
       "      <td>./doc_sim/input</td>\n",
       "      <td>WSWB.showcaseXI</td>\n",
       "      <td>.docx</td>\n",
       "      <td>408251</td>\n",
       "      <td>Fri Jan  8 08:31:34 2021</td>\n",
       "      <td>Tue Jan 12 12:46:33 2021</td>\n",
       "      <td>dsuser</td>\n",
       "    </tr>\n",
       "  </tbody>\n",
       "</table>\n",
       "</div>"
      ],
      "text/plain": [
       "                          name             path                    name_  \\\n",
       "0  WDSI.WDSIDT2ShowcaseXI.docx  ./doc_sim/input  WDSI.WDSIDT2ShowcaseXI    \n",
       "1   WDSI.WDSIDT2ShowcaseXI.pdf  ./doc_sim/input  WDSI.WDSIDT2ShowcaseXI    \n",
       "2         WSWB.showcaseXI.docx  ./doc_sim/input         WSWB.showcaseXI    \n",
       "\n",
       "  filetype    size                accesstime              modifiedtime  \\\n",
       "0    .docx  408619  Fri Jan  8 08:31:33 2021  Tue Jan 12 12:46:33 2021   \n",
       "1     .pdf   72452  Fri Jan  8 08:31:33 2021  Tue Jan 12 12:46:33 2021   \n",
       "2    .docx  408251  Fri Jan  8 08:31:34 2021  Tue Jan 12 12:46:33 2021   \n",
       "\n",
       "  modifiedby  \n",
       "0     dsuser  \n",
       "1     dsuser  \n",
       "2     dsuser  "
      ]
     },
     "execution_count": 95,
     "metadata": {},
     "output_type": "execute_result"
    }
   ],
   "source": [
    "df = pd.DataFrame(file_attr,columns = ['name','path','name_','filetype','size','accesstime','modifiedtime','modifiedby'])\n",
    "# df = pd.DataFrame(file_attr,columns = ['path','name_','filetype','size','accesstime','modifiedtime','mdifiedby'])\n",
    "df_name = df.name\n",
    "\n",
    "df"
   ]
  },
  {
   "cell_type": "code",
   "execution_count": 96,
   "metadata": {},
   "outputs": [],
   "source": [
    "df.drop(['accesstime','modifiedtime','modifiedby','path','name'],axis= 1,inplace=True)"
   ]
  },
  {
   "cell_type": "markdown",
   "metadata": {},
   "source": [
    "## Converting into categorical dataset"
   ]
  },
  {
   "cell_type": "code",
   "execution_count": 97,
   "metadata": {},
   "outputs": [],
   "source": [
    "for i in df.columns:\n",
    "#     print(i)\n",
    "    df[i] = df[i].astype('category').cat.codes"
   ]
  },
  {
   "cell_type": "code",
   "execution_count": 98,
   "metadata": {},
   "outputs": [
    {
     "data": {
      "text/html": [
       "<div>\n",
       "<style scoped>\n",
       "    .dataframe tbody tr th:only-of-type {\n",
       "        vertical-align: middle;\n",
       "    }\n",
       "\n",
       "    .dataframe tbody tr th {\n",
       "        vertical-align: top;\n",
       "    }\n",
       "\n",
       "    .dataframe thead th {\n",
       "        text-align: right;\n",
       "    }\n",
       "</style>\n",
       "<table border=\"1\" class=\"dataframe\">\n",
       "  <thead>\n",
       "    <tr style=\"text-align: right;\">\n",
       "      <th></th>\n",
       "      <th>name_</th>\n",
       "      <th>filetype</th>\n",
       "      <th>size</th>\n",
       "    </tr>\n",
       "  </thead>\n",
       "  <tbody>\n",
       "    <tr>\n",
       "      <th>0</th>\n",
       "      <td>0</td>\n",
       "      <td>0</td>\n",
       "      <td>2</td>\n",
       "    </tr>\n",
       "    <tr>\n",
       "      <th>1</th>\n",
       "      <td>0</td>\n",
       "      <td>1</td>\n",
       "      <td>0</td>\n",
       "    </tr>\n",
       "    <tr>\n",
       "      <th>2</th>\n",
       "      <td>1</td>\n",
       "      <td>0</td>\n",
       "      <td>1</td>\n",
       "    </tr>\n",
       "  </tbody>\n",
       "</table>\n",
       "</div>"
      ],
      "text/plain": [
       "   name_  filetype  size\n",
       "0      0         0     2\n",
       "1      0         1     0\n",
       "2      1         0     1"
      ]
     },
     "execution_count": 98,
     "metadata": {},
     "output_type": "execute_result"
    }
   ],
   "source": [
    "df"
   ]
  },
  {
   "cell_type": "code",
   "execution_count": 99,
   "metadata": {},
   "outputs": [],
   "source": [
    "# from sklearn.preprocessing import MinMaxScaler\n",
    "# scaler = MinMaxScaler()\n",
    "# df = pd.DataFrame(scaler.fit_transform(df))\n",
    "# df"
   ]
  },
  {
   "cell_type": "markdown",
   "metadata": {},
   "source": [
    "##  Corelation to Estimate Similarities"
   ]
  },
  {
   "cell_type": "code",
   "execution_count": 100,
   "metadata": {},
   "outputs": [
    {
     "data": {
      "image/png": "[encoded data removed]",
      "text/plain": [
       "<Figure size 1296x288 with 2 Axes>"
      ]
     },
     "metadata": {
      "needs_background": "light"
     },
     "output_type": "display_data"
    }
   ],
   "source": [
    "import pandas as pd\n",
    "import seaborn as sn\n",
    "import matplotlib.pyplot as plt\n",
    "\n",
    "f = plt.figure(figsize=(18, 4))\n",
    "\n",
    "corrMatrix = df.T.corr()\n",
    "sn.heatmap(corrMatrix, annot=True)\n",
    "plt.show()"
   ]
  },
  {
   "cell_type": "code",
   "execution_count": 35,
   "metadata": {},
   "outputs": [
    {
     "name": "stdout",
     "output_type": "stream",
     "text": [
      "     0    1    2\n",
      "0  1.0 -0.5  0.5\n",
      "1 -0.5  1.0 -1.0\n",
      "2  0.5 -1.0  1.0\n",
      "     0    1    2\n",
      "0  5.0  0.0  2.5\n",
      "1  0.0  5.0  0.0\n",
      "2  2.5  0.0  5.0\n"
     ]
    }
   ],
   "source": [
    "data_cor = df.T.corr(method = 'pearson')\n",
    "print(data_cor)\n",
    "data_cor = data_cor*5\n",
    "data_cor = data_cor.round(2)\n",
    "data_cor = data_cor.mask(data_cor < 0, 0)\n",
    "print(data_cor)"
   ]
  },
  {
   "cell_type": "code",
   "execution_count": 21,
   "metadata": {},
   "outputs": [
    {
     "data": {
      "text/html": [
       "<div>\n",
       "<style scoped>\n",
       "    .dataframe tbody tr th:only-of-type {\n",
       "        vertical-align: middle;\n",
       "    }\n",
       "\n",
       "    .dataframe tbody tr th {\n",
       "        vertical-align: top;\n",
       "    }\n",
       "\n",
       "    .dataframe thead th {\n",
       "        text-align: right;\n",
       "    }\n",
       "</style>\n",
       "<table border=\"1\" class=\"dataframe\">\n",
       "  <thead>\n",
       "    <tr style=\"text-align: right;\">\n",
       "      <th></th>\n",
       "      <th>0</th>\n",
       "      <th>1</th>\n",
       "      <th>2</th>\n",
       "    </tr>\n",
       "  </thead>\n",
       "  <tbody>\n",
       "    <tr>\n",
       "      <th>0</th>\n",
       "      <td>0.0</td>\n",
       "      <td>0.0</td>\n",
       "      <td>1.0</td>\n",
       "    </tr>\n",
       "    <tr>\n",
       "      <th>1</th>\n",
       "      <td>0.0</td>\n",
       "      <td>1.0</td>\n",
       "      <td>0.0</td>\n",
       "    </tr>\n",
       "    <tr>\n",
       "      <th>2</th>\n",
       "      <td>1.0</td>\n",
       "      <td>0.0</td>\n",
       "      <td>0.5</td>\n",
       "    </tr>\n",
       "  </tbody>\n",
       "</table>\n",
       "</div>"
      ],
      "text/plain": [
       "     0    1    2\n",
       "0  0.0  0.0  1.0\n",
       "1  0.0  1.0  0.0\n",
       "2  1.0  0.0  0.5"
      ]
     },
     "execution_count": 21,
     "metadata": {},
     "output_type": "execute_result"
    }
   ],
   "source": [
    "df"
   ]
  },
  {
   "cell_type": "code",
   "execution_count": 22,
   "metadata": {},
   "outputs": [
    {
     "data": {
      "image/png": "[encoded data removed]",
      "text/plain": [
       "<Figure size 1296x288 with 2 Axes>"
      ]
     },
     "metadata": {
      "needs_background": "light"
     },
     "output_type": "display_data"
    }
   ],
   "source": [
    "data_cor\n",
    "f = plt.figure(figsize=(18, 4))\n",
    "sn.heatmap(data_cor, annot=True)\n",
    "plt.show()"
   ]
  },
  {
   "cell_type": "code",
   "execution_count": null,
   "metadata": {},
   "outputs": [],
   "source": []
  }
 ],
 "metadata": {
  "kernelspec": {
   "display_name": "Python 3",
   "language": "python",
   "name": "python3"
  },
  "language_info": {
   "codemirror_mode": {
    "name": "ipython",
    "version": 3
   },
   "file_extension": ".py",
   "mimetype": "text/x-python",
   "name": "python",
   "nbconvert_exporter": "python",
   "pygments_lexer": "ipython3",
   "version": "3.6.9"
  }
 },
 "nbformat": 4,
 "nbformat_minor": 4
}
